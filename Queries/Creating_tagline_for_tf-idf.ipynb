{
 "cells": [
  {
   "cell_type": "code",
   "execution_count": 1,
   "id": "47edac68-9cf7-417a-8d9e-158e6a0597f2",
   "metadata": {},
   "outputs": [],
   "source": [
    "import pandas as pd"
   ]
  },
  {
   "cell_type": "code",
   "execution_count": 2,
   "id": "e27949e0-e8f9-4c1a-aa65-3c75228619b9",
   "metadata": {},
   "outputs": [],
   "source": [
    "df=pd.read_csv(r\"C:\\Users\\Aniruddha\\OneDrive\\Desktop\\data\\Jobs\\archive\\filtered_data_1.csv\")"
   ]
  },
  {
   "cell_type": "code",
   "execution_count": 3,
   "id": "44d13110-4686-4a21-8df6-cb6710df2424",
   "metadata": {},
   "outputs": [
    {
     "data": {
      "text/html": [
       "<div>\n",
       "<style scoped>\n",
       "    .dataframe tbody tr th:only-of-type {\n",
       "        vertical-align: middle;\n",
       "    }\n",
       "\n",
       "    .dataframe tbody tr th {\n",
       "        vertical-align: top;\n",
       "    }\n",
       "\n",
       "    .dataframe thead th {\n",
       "        text-align: right;\n",
       "    }\n",
       "</style>\n",
       "<table border=\"1\" class=\"dataframe\">\n",
       "  <thead>\n",
       "    <tr style=\"text-align: right;\">\n",
       "      <th></th>\n",
       "      <th>Job Id</th>\n",
       "      <th>Job Title</th>\n",
       "      <th>Role</th>\n",
       "      <th>Tags</th>\n",
       "    </tr>\n",
       "  </thead>\n",
       "  <tbody>\n",
       "    <tr>\n",
       "      <th>0</th>\n",
       "      <td>0</td>\n",
       "      <td>Digital Marketing Specialist</td>\n",
       "      <td>Social Media Manager</td>\n",
       "      <td>['Facebook', 'Twitter', 'Instagram']</td>\n",
       "    </tr>\n",
       "    <tr>\n",
       "      <th>1</th>\n",
       "      <td>1</td>\n",
       "      <td>Web Developer</td>\n",
       "      <td>Frontend Web Developer</td>\n",
       "      <td>['React', 'Angular', 'UX']</td>\n",
       "    </tr>\n",
       "    <tr>\n",
       "      <th>2</th>\n",
       "      <td>2</td>\n",
       "      <td>Operations Manager</td>\n",
       "      <td>Quality Control Manager</td>\n",
       "      <td>['SPC', 'ISO 9001']</td>\n",
       "    </tr>\n",
       "    <tr>\n",
       "      <th>3</th>\n",
       "      <td>3</td>\n",
       "      <td>Network Engineer</td>\n",
       "      <td>Wireless Network Engineer</td>\n",
       "      <td>['Radio Frequency']</td>\n",
       "    </tr>\n",
       "    <tr>\n",
       "      <th>4</th>\n",
       "      <td>5</td>\n",
       "      <td>Software Tester</td>\n",
       "      <td>Quality Assurance Analyst</td>\n",
       "      <td>['manual', 'automated']</td>\n",
       "    </tr>\n",
       "    <tr>\n",
       "      <th>...</th>\n",
       "      <td>...</td>\n",
       "      <td>...</td>\n",
       "      <td>...</td>\n",
       "      <td>...</td>\n",
       "    </tr>\n",
       "    <tr>\n",
       "      <th>529812</th>\n",
       "      <td>1615924</td>\n",
       "      <td>Network Administrator</td>\n",
       "      <td>Network Engineer</td>\n",
       "      <td>['TCP/IP']</td>\n",
       "    </tr>\n",
       "    <tr>\n",
       "      <th>529813</th>\n",
       "      <td>1615928</td>\n",
       "      <td>UX/UI Designer</td>\n",
       "      <td>User Interface Designer</td>\n",
       "      <td>['Adobe Photoshop', 'Illustrator']</td>\n",
       "    </tr>\n",
       "    <tr>\n",
       "      <th>529814</th>\n",
       "      <td>1615932</td>\n",
       "      <td>UI Developer</td>\n",
       "      <td>UX/UI Designer</td>\n",
       "      <td>['UX', 'UI']</td>\n",
       "    </tr>\n",
       "    <tr>\n",
       "      <th>529815</th>\n",
       "      <td>1615935</td>\n",
       "      <td>Mechanical Engineer</td>\n",
       "      <td>Mechanical Design Engineer</td>\n",
       "      <td>['SolidWorks', 'AutoCAD']</td>\n",
       "    </tr>\n",
       "    <tr>\n",
       "      <th>529816</th>\n",
       "      <td>1615937</td>\n",
       "      <td>Mechanical Engineer</td>\n",
       "      <td>Mechanical Design Engineer</td>\n",
       "      <td>['SolidWorks', 'AutoCAD']</td>\n",
       "    </tr>\n",
       "  </tbody>\n",
       "</table>\n",
       "<p>529817 rows × 4 columns</p>\n",
       "</div>"
      ],
      "text/plain": [
       "         Job Id                     Job Title                        Role  \\\n",
       "0             0  Digital Marketing Specialist        Social Media Manager   \n",
       "1             1                 Web Developer      Frontend Web Developer   \n",
       "2             2            Operations Manager     Quality Control Manager   \n",
       "3             3              Network Engineer   Wireless Network Engineer   \n",
       "4             5               Software Tester   Quality Assurance Analyst   \n",
       "...         ...                           ...                         ...   \n",
       "529812  1615924         Network Administrator            Network Engineer   \n",
       "529813  1615928                UX/UI Designer     User Interface Designer   \n",
       "529814  1615932                  UI Developer              UX/UI Designer   \n",
       "529815  1615935           Mechanical Engineer  Mechanical Design Engineer   \n",
       "529816  1615937           Mechanical Engineer  Mechanical Design Engineer   \n",
       "\n",
       "                                        Tags  \n",
       "0       ['Facebook', 'Twitter', 'Instagram']  \n",
       "1                 ['React', 'Angular', 'UX']  \n",
       "2                        ['SPC', 'ISO 9001']  \n",
       "3                        ['Radio Frequency']  \n",
       "4                    ['manual', 'automated']  \n",
       "...                                      ...  \n",
       "529812                            ['TCP/IP']  \n",
       "529813    ['Adobe Photoshop', 'Illustrator']  \n",
       "529814                          ['UX', 'UI']  \n",
       "529815             ['SolidWorks', 'AutoCAD']  \n",
       "529816             ['SolidWorks', 'AutoCAD']  \n",
       "\n",
       "[529817 rows x 4 columns]"
      ]
     },
     "execution_count": 3,
     "metadata": {},
     "output_type": "execute_result"
    }
   ],
   "source": [
    "df"
   ]
  },
  {
   "cell_type": "code",
   "execution_count": 4,
   "id": "89f43719-5840-45e1-a51b-8d08375f08e4",
   "metadata": {},
   "outputs": [
    {
     "data": {
      "text/plain": [
       "str"
      ]
     },
     "execution_count": 4,
     "metadata": {},
     "output_type": "execute_result"
    }
   ],
   "source": [
    "type(df['Tags'][0])"
   ]
  },
  {
   "cell_type": "code",
   "execution_count": 5,
   "id": "d4215995-ba17-419b-ab6b-8cc07a7f8430",
   "metadata": {},
   "outputs": [],
   "source": [
    "temp=df['Tags'][0]"
   ]
  },
  {
   "cell_type": "code",
   "execution_count": 6,
   "id": "b5030f8b-67bc-4fd7-a772-8527533a5cfc",
   "metadata": {},
   "outputs": [
    {
     "data": {
      "text/plain": [
       "\"'Facebook', 'Twitter', 'Instagram'\""
      ]
     },
     "execution_count": 6,
     "metadata": {},
     "output_type": "execute_result"
    }
   ],
   "source": [
    "temp[1:len(temp)-1]"
   ]
  },
  {
   "cell_type": "code",
   "execution_count": 7,
   "id": "0436af98-c2b5-496b-b92c-fca16cdbfda2",
   "metadata": {},
   "outputs": [],
   "source": [
    "def cut(taglist):\n",
    "    return taglist[1:len(taglist)-1]"
   ]
  },
  {
   "cell_type": "code",
   "execution_count": 8,
   "id": "a0a81477-671f-48ac-b19c-733f08afc2f4",
   "metadata": {},
   "outputs": [],
   "source": [
    "df['new_tags']=df['Tags'].apply(cut)"
   ]
  },
  {
   "cell_type": "code",
   "execution_count": 9,
   "id": "7a2539a6-b3eb-408c-ac02-11d2552c48b9",
   "metadata": {},
   "outputs": [
    {
     "data": {
      "text/html": [
       "<div>\n",
       "<style scoped>\n",
       "    .dataframe tbody tr th:only-of-type {\n",
       "        vertical-align: middle;\n",
       "    }\n",
       "\n",
       "    .dataframe tbody tr th {\n",
       "        vertical-align: top;\n",
       "    }\n",
       "\n",
       "    .dataframe thead th {\n",
       "        text-align: right;\n",
       "    }\n",
       "</style>\n",
       "<table border=\"1\" class=\"dataframe\">\n",
       "  <thead>\n",
       "    <tr style=\"text-align: right;\">\n",
       "      <th></th>\n",
       "      <th>Job Id</th>\n",
       "      <th>Job Title</th>\n",
       "      <th>Role</th>\n",
       "      <th>Tags</th>\n",
       "      <th>new_tags</th>\n",
       "    </tr>\n",
       "  </thead>\n",
       "  <tbody>\n",
       "    <tr>\n",
       "      <th>0</th>\n",
       "      <td>0</td>\n",
       "      <td>Digital Marketing Specialist</td>\n",
       "      <td>Social Media Manager</td>\n",
       "      <td>['Facebook', 'Twitter', 'Instagram']</td>\n",
       "      <td>'Facebook', 'Twitter', 'Instagram'</td>\n",
       "    </tr>\n",
       "    <tr>\n",
       "      <th>1</th>\n",
       "      <td>1</td>\n",
       "      <td>Web Developer</td>\n",
       "      <td>Frontend Web Developer</td>\n",
       "      <td>['React', 'Angular', 'UX']</td>\n",
       "      <td>'React', 'Angular', 'UX'</td>\n",
       "    </tr>\n",
       "    <tr>\n",
       "      <th>2</th>\n",
       "      <td>2</td>\n",
       "      <td>Operations Manager</td>\n",
       "      <td>Quality Control Manager</td>\n",
       "      <td>['SPC', 'ISO 9001']</td>\n",
       "      <td>'SPC', 'ISO 9001'</td>\n",
       "    </tr>\n",
       "    <tr>\n",
       "      <th>3</th>\n",
       "      <td>3</td>\n",
       "      <td>Network Engineer</td>\n",
       "      <td>Wireless Network Engineer</td>\n",
       "      <td>['Radio Frequency']</td>\n",
       "      <td>'Radio Frequency'</td>\n",
       "    </tr>\n",
       "    <tr>\n",
       "      <th>4</th>\n",
       "      <td>5</td>\n",
       "      <td>Software Tester</td>\n",
       "      <td>Quality Assurance Analyst</td>\n",
       "      <td>['manual', 'automated']</td>\n",
       "      <td>'manual', 'automated'</td>\n",
       "    </tr>\n",
       "    <tr>\n",
       "      <th>...</th>\n",
       "      <td>...</td>\n",
       "      <td>...</td>\n",
       "      <td>...</td>\n",
       "      <td>...</td>\n",
       "      <td>...</td>\n",
       "    </tr>\n",
       "    <tr>\n",
       "      <th>529812</th>\n",
       "      <td>1615924</td>\n",
       "      <td>Network Administrator</td>\n",
       "      <td>Network Engineer</td>\n",
       "      <td>['TCP/IP']</td>\n",
       "      <td>'TCP/IP'</td>\n",
       "    </tr>\n",
       "    <tr>\n",
       "      <th>529813</th>\n",
       "      <td>1615928</td>\n",
       "      <td>UX/UI Designer</td>\n",
       "      <td>User Interface Designer</td>\n",
       "      <td>['Adobe Photoshop', 'Illustrator']</td>\n",
       "      <td>'Adobe Photoshop', 'Illustrator'</td>\n",
       "    </tr>\n",
       "    <tr>\n",
       "      <th>529814</th>\n",
       "      <td>1615932</td>\n",
       "      <td>UI Developer</td>\n",
       "      <td>UX/UI Designer</td>\n",
       "      <td>['UX', 'UI']</td>\n",
       "      <td>'UX', 'UI'</td>\n",
       "    </tr>\n",
       "    <tr>\n",
       "      <th>529815</th>\n",
       "      <td>1615935</td>\n",
       "      <td>Mechanical Engineer</td>\n",
       "      <td>Mechanical Design Engineer</td>\n",
       "      <td>['SolidWorks', 'AutoCAD']</td>\n",
       "      <td>'SolidWorks', 'AutoCAD'</td>\n",
       "    </tr>\n",
       "    <tr>\n",
       "      <th>529816</th>\n",
       "      <td>1615937</td>\n",
       "      <td>Mechanical Engineer</td>\n",
       "      <td>Mechanical Design Engineer</td>\n",
       "      <td>['SolidWorks', 'AutoCAD']</td>\n",
       "      <td>'SolidWorks', 'AutoCAD'</td>\n",
       "    </tr>\n",
       "  </tbody>\n",
       "</table>\n",
       "<p>529817 rows × 5 columns</p>\n",
       "</div>"
      ],
      "text/plain": [
       "         Job Id                     Job Title                        Role  \\\n",
       "0             0  Digital Marketing Specialist        Social Media Manager   \n",
       "1             1                 Web Developer      Frontend Web Developer   \n",
       "2             2            Operations Manager     Quality Control Manager   \n",
       "3             3              Network Engineer   Wireless Network Engineer   \n",
       "4             5               Software Tester   Quality Assurance Analyst   \n",
       "...         ...                           ...                         ...   \n",
       "529812  1615924         Network Administrator            Network Engineer   \n",
       "529813  1615928                UX/UI Designer     User Interface Designer   \n",
       "529814  1615932                  UI Developer              UX/UI Designer   \n",
       "529815  1615935           Mechanical Engineer  Mechanical Design Engineer   \n",
       "529816  1615937           Mechanical Engineer  Mechanical Design Engineer   \n",
       "\n",
       "                                        Tags  \\\n",
       "0       ['Facebook', 'Twitter', 'Instagram']   \n",
       "1                 ['React', 'Angular', 'UX']   \n",
       "2                        ['SPC', 'ISO 9001']   \n",
       "3                        ['Radio Frequency']   \n",
       "4                    ['manual', 'automated']   \n",
       "...                                      ...   \n",
       "529812                            ['TCP/IP']   \n",
       "529813    ['Adobe Photoshop', 'Illustrator']   \n",
       "529814                          ['UX', 'UI']   \n",
       "529815             ['SolidWorks', 'AutoCAD']   \n",
       "529816             ['SolidWorks', 'AutoCAD']   \n",
       "\n",
       "                                  new_tags  \n",
       "0       'Facebook', 'Twitter', 'Instagram'  \n",
       "1                 'React', 'Angular', 'UX'  \n",
       "2                        'SPC', 'ISO 9001'  \n",
       "3                        'Radio Frequency'  \n",
       "4                    'manual', 'automated'  \n",
       "...                                    ...  \n",
       "529812                            'TCP/IP'  \n",
       "529813    'Adobe Photoshop', 'Illustrator'  \n",
       "529814                          'UX', 'UI'  \n",
       "529815             'SolidWorks', 'AutoCAD'  \n",
       "529816             'SolidWorks', 'AutoCAD'  \n",
       "\n",
       "[529817 rows x 5 columns]"
      ]
     },
     "execution_count": 9,
     "metadata": {},
     "output_type": "execute_result"
    }
   ],
   "source": [
    "df"
   ]
  },
  {
   "cell_type": "code",
   "execution_count": 10,
   "id": "c0858561-48b5-4f73-b630-1dd8bd09c5ad",
   "metadata": {},
   "outputs": [],
   "source": [
    "df['new_tags']=df['new_tags'].apply(lambda x:x.split(','))"
   ]
  },
  {
   "cell_type": "code",
   "execution_count": 11,
   "id": "b92c4ad3-1d0c-4a46-8283-e266dcf212ab",
   "metadata": {},
   "outputs": [
    {
     "data": {
      "text/plain": [
       "list"
      ]
     },
     "execution_count": 11,
     "metadata": {},
     "output_type": "execute_result"
    }
   ],
   "source": [
    "type(df['new_tags'][0])"
   ]
  },
  {
   "cell_type": "code",
   "execution_count": 12,
   "id": "ad814e42-f0bf-48f8-bcad-6d14753dbe8a",
   "metadata": {},
   "outputs": [
    {
     "data": {
      "text/plain": [
       "str"
      ]
     },
     "execution_count": 12,
     "metadata": {},
     "output_type": "execute_result"
    }
   ],
   "source": [
    "type(df['new_tags'][0][0])"
   ]
  },
  {
   "cell_type": "code",
   "execution_count": 13,
   "id": "2b960026-5c0c-4ae1-a29e-be6b8797f21a",
   "metadata": {},
   "outputs": [
    {
     "data": {
      "text/plain": [
       "\"'Facebook'\""
      ]
     },
     "execution_count": 13,
     "metadata": {},
     "output_type": "execute_result"
    }
   ],
   "source": [
    "df['new_tags'][0][0]"
   ]
  },
  {
   "cell_type": "code",
   "execution_count": 14,
   "id": "a91d35e1-c052-4440-8186-36e3da3512fe",
   "metadata": {},
   "outputs": [],
   "source": [
    "def scut(taglist):\n",
    "    ans=[]\n",
    "    for i in taglist:\n",
    "        i=i.strip()\n",
    "        ans.append(cut(i))\n",
    "    return ans"
   ]
  },
  {
   "cell_type": "code",
   "execution_count": 15,
   "id": "f992a5c1-1bd0-49c0-b33f-60c4b86709c1",
   "metadata": {},
   "outputs": [
    {
     "data": {
      "text/plain": [
       "0         [Facebook, Twitter, Instagram]\n",
       "1                   [React, Angular, UX]\n",
       "2                        [SPC, ISO 9001]\n",
       "3                      [Radio Frequency]\n",
       "4                    [manual, automated]\n",
       "                       ...              \n",
       "529812                          [TCP/IP]\n",
       "529813    [Adobe Photoshop, Illustrator]\n",
       "529814                          [UX, UI]\n",
       "529815             [SolidWorks, AutoCAD]\n",
       "529816             [SolidWorks, AutoCAD]\n",
       "Name: new_tags, Length: 529817, dtype: object"
      ]
     },
     "execution_count": 15,
     "metadata": {},
     "output_type": "execute_result"
    }
   ],
   "source": [
    "df['new_tags'].apply(scut)"
   ]
  },
  {
   "cell_type": "code",
   "execution_count": 16,
   "id": "1e583fed-f8e1-4521-8644-0309c69a7143",
   "metadata": {},
   "outputs": [],
   "source": [
    "df['new_tags']=df['new_tags'].apply(scut)"
   ]
  },
  {
   "cell_type": "code",
   "execution_count": 17,
   "id": "226ff21b-4b01-49c5-acc4-cf8526416a3c",
   "metadata": {},
   "outputs": [
    {
     "data": {
      "text/html": [
       "<div>\n",
       "<style scoped>\n",
       "    .dataframe tbody tr th:only-of-type {\n",
       "        vertical-align: middle;\n",
       "    }\n",
       "\n",
       "    .dataframe tbody tr th {\n",
       "        vertical-align: top;\n",
       "    }\n",
       "\n",
       "    .dataframe thead th {\n",
       "        text-align: right;\n",
       "    }\n",
       "</style>\n",
       "<table border=\"1\" class=\"dataframe\">\n",
       "  <thead>\n",
       "    <tr style=\"text-align: right;\">\n",
       "      <th></th>\n",
       "      <th>Job Id</th>\n",
       "      <th>Job Title</th>\n",
       "      <th>Role</th>\n",
       "      <th>Tags</th>\n",
       "      <th>new_tags</th>\n",
       "    </tr>\n",
       "  </thead>\n",
       "  <tbody>\n",
       "    <tr>\n",
       "      <th>0</th>\n",
       "      <td>0</td>\n",
       "      <td>Digital Marketing Specialist</td>\n",
       "      <td>Social Media Manager</td>\n",
       "      <td>['Facebook', 'Twitter', 'Instagram']</td>\n",
       "      <td>[Facebook, Twitter, Instagram]</td>\n",
       "    </tr>\n",
       "    <tr>\n",
       "      <th>1</th>\n",
       "      <td>1</td>\n",
       "      <td>Web Developer</td>\n",
       "      <td>Frontend Web Developer</td>\n",
       "      <td>['React', 'Angular', 'UX']</td>\n",
       "      <td>[React, Angular, UX]</td>\n",
       "    </tr>\n",
       "    <tr>\n",
       "      <th>2</th>\n",
       "      <td>2</td>\n",
       "      <td>Operations Manager</td>\n",
       "      <td>Quality Control Manager</td>\n",
       "      <td>['SPC', 'ISO 9001']</td>\n",
       "      <td>[SPC, ISO 9001]</td>\n",
       "    </tr>\n",
       "    <tr>\n",
       "      <th>3</th>\n",
       "      <td>3</td>\n",
       "      <td>Network Engineer</td>\n",
       "      <td>Wireless Network Engineer</td>\n",
       "      <td>['Radio Frequency']</td>\n",
       "      <td>[Radio Frequency]</td>\n",
       "    </tr>\n",
       "    <tr>\n",
       "      <th>4</th>\n",
       "      <td>5</td>\n",
       "      <td>Software Tester</td>\n",
       "      <td>Quality Assurance Analyst</td>\n",
       "      <td>['manual', 'automated']</td>\n",
       "      <td>[manual, automated]</td>\n",
       "    </tr>\n",
       "    <tr>\n",
       "      <th>...</th>\n",
       "      <td>...</td>\n",
       "      <td>...</td>\n",
       "      <td>...</td>\n",
       "      <td>...</td>\n",
       "      <td>...</td>\n",
       "    </tr>\n",
       "    <tr>\n",
       "      <th>529812</th>\n",
       "      <td>1615924</td>\n",
       "      <td>Network Administrator</td>\n",
       "      <td>Network Engineer</td>\n",
       "      <td>['TCP/IP']</td>\n",
       "      <td>[TCP/IP]</td>\n",
       "    </tr>\n",
       "    <tr>\n",
       "      <th>529813</th>\n",
       "      <td>1615928</td>\n",
       "      <td>UX/UI Designer</td>\n",
       "      <td>User Interface Designer</td>\n",
       "      <td>['Adobe Photoshop', 'Illustrator']</td>\n",
       "      <td>[Adobe Photoshop, Illustrator]</td>\n",
       "    </tr>\n",
       "    <tr>\n",
       "      <th>529814</th>\n",
       "      <td>1615932</td>\n",
       "      <td>UI Developer</td>\n",
       "      <td>UX/UI Designer</td>\n",
       "      <td>['UX', 'UI']</td>\n",
       "      <td>[UX, UI]</td>\n",
       "    </tr>\n",
       "    <tr>\n",
       "      <th>529815</th>\n",
       "      <td>1615935</td>\n",
       "      <td>Mechanical Engineer</td>\n",
       "      <td>Mechanical Design Engineer</td>\n",
       "      <td>['SolidWorks', 'AutoCAD']</td>\n",
       "      <td>[SolidWorks, AutoCAD]</td>\n",
       "    </tr>\n",
       "    <tr>\n",
       "      <th>529816</th>\n",
       "      <td>1615937</td>\n",
       "      <td>Mechanical Engineer</td>\n",
       "      <td>Mechanical Design Engineer</td>\n",
       "      <td>['SolidWorks', 'AutoCAD']</td>\n",
       "      <td>[SolidWorks, AutoCAD]</td>\n",
       "    </tr>\n",
       "  </tbody>\n",
       "</table>\n",
       "<p>529817 rows × 5 columns</p>\n",
       "</div>"
      ],
      "text/plain": [
       "         Job Id                     Job Title                        Role  \\\n",
       "0             0  Digital Marketing Specialist        Social Media Manager   \n",
       "1             1                 Web Developer      Frontend Web Developer   \n",
       "2             2            Operations Manager     Quality Control Manager   \n",
       "3             3              Network Engineer   Wireless Network Engineer   \n",
       "4             5               Software Tester   Quality Assurance Analyst   \n",
       "...         ...                           ...                         ...   \n",
       "529812  1615924         Network Administrator            Network Engineer   \n",
       "529813  1615928                UX/UI Designer     User Interface Designer   \n",
       "529814  1615932                  UI Developer              UX/UI Designer   \n",
       "529815  1615935           Mechanical Engineer  Mechanical Design Engineer   \n",
       "529816  1615937           Mechanical Engineer  Mechanical Design Engineer   \n",
       "\n",
       "                                        Tags                        new_tags  \n",
       "0       ['Facebook', 'Twitter', 'Instagram']  [Facebook, Twitter, Instagram]  \n",
       "1                 ['React', 'Angular', 'UX']            [React, Angular, UX]  \n",
       "2                        ['SPC', 'ISO 9001']                 [SPC, ISO 9001]  \n",
       "3                        ['Radio Frequency']               [Radio Frequency]  \n",
       "4                    ['manual', 'automated']             [manual, automated]  \n",
       "...                                      ...                             ...  \n",
       "529812                            ['TCP/IP']                        [TCP/IP]  \n",
       "529813    ['Adobe Photoshop', 'Illustrator']  [Adobe Photoshop, Illustrator]  \n",
       "529814                          ['UX', 'UI']                        [UX, UI]  \n",
       "529815             ['SolidWorks', 'AutoCAD']           [SolidWorks, AutoCAD]  \n",
       "529816             ['SolidWorks', 'AutoCAD']           [SolidWorks, AutoCAD]  \n",
       "\n",
       "[529817 rows x 5 columns]"
      ]
     },
     "execution_count": 17,
     "metadata": {},
     "output_type": "execute_result"
    }
   ],
   "source": [
    "df"
   ]
  },
  {
   "cell_type": "code",
   "execution_count": 18,
   "id": "b3b9a9f8-5eb3-424e-9813-c7694d8f98a0",
   "metadata": {},
   "outputs": [
    {
     "data": {
      "text/plain": [
       "'Facebook'"
      ]
     },
     "execution_count": 18,
     "metadata": {},
     "output_type": "execute_result"
    }
   ],
   "source": [
    "df['new_tags'][0][0]"
   ]
  },
  {
   "cell_type": "code",
   "execution_count": 19,
   "id": "173c3c5f-29b8-401c-b758-07439e5bd492",
   "metadata": {},
   "outputs": [],
   "source": [
    "def constructline(taglst):\n",
    "    ans=\"\"\n",
    "    for i in taglst:\n",
    "        if(len(ans)==0):\n",
    "            ans+=i\n",
    "        else:\n",
    "            ans+=' '\n",
    "            ans+=i\n",
    "    return ans"
   ]
  },
  {
   "cell_type": "code",
   "execution_count": 20,
   "id": "fe1f2bea-dcc4-4f63-91c7-456cc34f2841",
   "metadata": {},
   "outputs": [
    {
     "data": {
      "text/plain": [
       "0          Facebook Twitter Instagram\n",
       "1                    React Angular UX\n",
       "2                        SPC ISO 9001\n",
       "3                     Radio Frequency\n",
       "4                    manual automated\n",
       "                     ...             \n",
       "529812                         TCP/IP\n",
       "529813    Adobe Photoshop Illustrator\n",
       "529814                          UX UI\n",
       "529815             SolidWorks AutoCAD\n",
       "529816             SolidWorks AutoCAD\n",
       "Name: new_tags, Length: 529817, dtype: object"
      ]
     },
     "execution_count": 20,
     "metadata": {},
     "output_type": "execute_result"
    }
   ],
   "source": [
    "df['new_tags'].apply(constructline)"
   ]
  },
  {
   "cell_type": "code",
   "execution_count": null,
   "id": "85b8afed-5810-41d2-ad61-bceae42f589e",
   "metadata": {},
   "outputs": [],
   "source": []
  },
  {
   "cell_type": "code",
   "execution_count": 21,
   "id": "e4ba0f16-5857-4a4f-8a00-5addc2318b92",
   "metadata": {},
   "outputs": [],
   "source": [
    "df['tagLine']=df['new_tags'].apply(constructline)"
   ]
  },
  {
   "cell_type": "code",
   "execution_count": 22,
   "id": "e83949aa-2507-438f-9b40-fb8ffdc9963c",
   "metadata": {},
   "outputs": [
    {
     "data": {
      "text/html": [
       "<div>\n",
       "<style scoped>\n",
       "    .dataframe tbody tr th:only-of-type {\n",
       "        vertical-align: middle;\n",
       "    }\n",
       "\n",
       "    .dataframe tbody tr th {\n",
       "        vertical-align: top;\n",
       "    }\n",
       "\n",
       "    .dataframe thead th {\n",
       "        text-align: right;\n",
       "    }\n",
       "</style>\n",
       "<table border=\"1\" class=\"dataframe\">\n",
       "  <thead>\n",
       "    <tr style=\"text-align: right;\">\n",
       "      <th></th>\n",
       "      <th>Job Id</th>\n",
       "      <th>Job Title</th>\n",
       "      <th>Role</th>\n",
       "      <th>Tags</th>\n",
       "      <th>new_tags</th>\n",
       "      <th>tagLine</th>\n",
       "    </tr>\n",
       "  </thead>\n",
       "  <tbody>\n",
       "    <tr>\n",
       "      <th>0</th>\n",
       "      <td>0</td>\n",
       "      <td>Digital Marketing Specialist</td>\n",
       "      <td>Social Media Manager</td>\n",
       "      <td>['Facebook', 'Twitter', 'Instagram']</td>\n",
       "      <td>[Facebook, Twitter, Instagram]</td>\n",
       "      <td>Facebook Twitter Instagram</td>\n",
       "    </tr>\n",
       "    <tr>\n",
       "      <th>1</th>\n",
       "      <td>1</td>\n",
       "      <td>Web Developer</td>\n",
       "      <td>Frontend Web Developer</td>\n",
       "      <td>['React', 'Angular', 'UX']</td>\n",
       "      <td>[React, Angular, UX]</td>\n",
       "      <td>React Angular UX</td>\n",
       "    </tr>\n",
       "    <tr>\n",
       "      <th>2</th>\n",
       "      <td>2</td>\n",
       "      <td>Operations Manager</td>\n",
       "      <td>Quality Control Manager</td>\n",
       "      <td>['SPC', 'ISO 9001']</td>\n",
       "      <td>[SPC, ISO 9001]</td>\n",
       "      <td>SPC ISO 9001</td>\n",
       "    </tr>\n",
       "    <tr>\n",
       "      <th>3</th>\n",
       "      <td>3</td>\n",
       "      <td>Network Engineer</td>\n",
       "      <td>Wireless Network Engineer</td>\n",
       "      <td>['Radio Frequency']</td>\n",
       "      <td>[Radio Frequency]</td>\n",
       "      <td>Radio Frequency</td>\n",
       "    </tr>\n",
       "    <tr>\n",
       "      <th>4</th>\n",
       "      <td>5</td>\n",
       "      <td>Software Tester</td>\n",
       "      <td>Quality Assurance Analyst</td>\n",
       "      <td>['manual', 'automated']</td>\n",
       "      <td>[manual, automated]</td>\n",
       "      <td>manual automated</td>\n",
       "    </tr>\n",
       "    <tr>\n",
       "      <th>...</th>\n",
       "      <td>...</td>\n",
       "      <td>...</td>\n",
       "      <td>...</td>\n",
       "      <td>...</td>\n",
       "      <td>...</td>\n",
       "      <td>...</td>\n",
       "    </tr>\n",
       "    <tr>\n",
       "      <th>529812</th>\n",
       "      <td>1615924</td>\n",
       "      <td>Network Administrator</td>\n",
       "      <td>Network Engineer</td>\n",
       "      <td>['TCP/IP']</td>\n",
       "      <td>[TCP/IP]</td>\n",
       "      <td>TCP/IP</td>\n",
       "    </tr>\n",
       "    <tr>\n",
       "      <th>529813</th>\n",
       "      <td>1615928</td>\n",
       "      <td>UX/UI Designer</td>\n",
       "      <td>User Interface Designer</td>\n",
       "      <td>['Adobe Photoshop', 'Illustrator']</td>\n",
       "      <td>[Adobe Photoshop, Illustrator]</td>\n",
       "      <td>Adobe Photoshop Illustrator</td>\n",
       "    </tr>\n",
       "    <tr>\n",
       "      <th>529814</th>\n",
       "      <td>1615932</td>\n",
       "      <td>UI Developer</td>\n",
       "      <td>UX/UI Designer</td>\n",
       "      <td>['UX', 'UI']</td>\n",
       "      <td>[UX, UI]</td>\n",
       "      <td>UX UI</td>\n",
       "    </tr>\n",
       "    <tr>\n",
       "      <th>529815</th>\n",
       "      <td>1615935</td>\n",
       "      <td>Mechanical Engineer</td>\n",
       "      <td>Mechanical Design Engineer</td>\n",
       "      <td>['SolidWorks', 'AutoCAD']</td>\n",
       "      <td>[SolidWorks, AutoCAD]</td>\n",
       "      <td>SolidWorks AutoCAD</td>\n",
       "    </tr>\n",
       "    <tr>\n",
       "      <th>529816</th>\n",
       "      <td>1615937</td>\n",
       "      <td>Mechanical Engineer</td>\n",
       "      <td>Mechanical Design Engineer</td>\n",
       "      <td>['SolidWorks', 'AutoCAD']</td>\n",
       "      <td>[SolidWorks, AutoCAD]</td>\n",
       "      <td>SolidWorks AutoCAD</td>\n",
       "    </tr>\n",
       "  </tbody>\n",
       "</table>\n",
       "<p>529817 rows × 6 columns</p>\n",
       "</div>"
      ],
      "text/plain": [
       "         Job Id                     Job Title                        Role  \\\n",
       "0             0  Digital Marketing Specialist        Social Media Manager   \n",
       "1             1                 Web Developer      Frontend Web Developer   \n",
       "2             2            Operations Manager     Quality Control Manager   \n",
       "3             3              Network Engineer   Wireless Network Engineer   \n",
       "4             5               Software Tester   Quality Assurance Analyst   \n",
       "...         ...                           ...                         ...   \n",
       "529812  1615924         Network Administrator            Network Engineer   \n",
       "529813  1615928                UX/UI Designer     User Interface Designer   \n",
       "529814  1615932                  UI Developer              UX/UI Designer   \n",
       "529815  1615935           Mechanical Engineer  Mechanical Design Engineer   \n",
       "529816  1615937           Mechanical Engineer  Mechanical Design Engineer   \n",
       "\n",
       "                                        Tags                        new_tags  \\\n",
       "0       ['Facebook', 'Twitter', 'Instagram']  [Facebook, Twitter, Instagram]   \n",
       "1                 ['React', 'Angular', 'UX']            [React, Angular, UX]   \n",
       "2                        ['SPC', 'ISO 9001']                 [SPC, ISO 9001]   \n",
       "3                        ['Radio Frequency']               [Radio Frequency]   \n",
       "4                    ['manual', 'automated']             [manual, automated]   \n",
       "...                                      ...                             ...   \n",
       "529812                            ['TCP/IP']                        [TCP/IP]   \n",
       "529813    ['Adobe Photoshop', 'Illustrator']  [Adobe Photoshop, Illustrator]   \n",
       "529814                          ['UX', 'UI']                        [UX, UI]   \n",
       "529815             ['SolidWorks', 'AutoCAD']           [SolidWorks, AutoCAD]   \n",
       "529816             ['SolidWorks', 'AutoCAD']           [SolidWorks, AutoCAD]   \n",
       "\n",
       "                            tagLine  \n",
       "0        Facebook Twitter Instagram  \n",
       "1                  React Angular UX  \n",
       "2                      SPC ISO 9001  \n",
       "3                   Radio Frequency  \n",
       "4                  manual automated  \n",
       "...                             ...  \n",
       "529812                       TCP/IP  \n",
       "529813  Adobe Photoshop Illustrator  \n",
       "529814                        UX UI  \n",
       "529815           SolidWorks AutoCAD  \n",
       "529816           SolidWorks AutoCAD  \n",
       "\n",
       "[529817 rows x 6 columns]"
      ]
     },
     "execution_count": 22,
     "metadata": {},
     "output_type": "execute_result"
    }
   ],
   "source": [
    "df"
   ]
  },
  {
   "cell_type": "code",
   "execution_count": 74,
   "id": "a0671567-07d6-4338-8db7-7bd763c191b1",
   "metadata": {},
   "outputs": [],
   "source": [
    "df.drop(columns=['new_tags'],inplace=True)"
   ]
  },
  {
   "cell_type": "code",
   "execution_count": 78,
   "id": "132c585b-2ec6-4b57-85ab-aca5cc282581",
   "metadata": {},
   "outputs": [],
   "source": [
    "df.to_csv(r\"C:\\Users\\Aniruddha\\OneDrive\\Desktop\\data\\Jobs\\archive\\filtered_data_2_tagline.csv\")"
   ]
  },
  {
   "cell_type": "code",
   "execution_count": null,
   "id": "0b195355-d369-4258-bef7-ff2ae9ed8231",
   "metadata": {},
   "outputs": [],
   "source": []
  },
  {
   "cell_type": "code",
   "execution_count": null,
   "id": "1814e546-8300-498b-a029-ad1cbca55bab",
   "metadata": {},
   "outputs": [],
   "source": []
  },
  {
   "cell_type": "code",
   "execution_count": null,
   "id": "83e30202-d0d0-4b64-9878-5f3675a09ad7",
   "metadata": {},
   "outputs": [],
   "source": []
  },
  {
   "cell_type": "code",
   "execution_count": null,
   "id": "8c0f6124-bc03-459a-9533-ecfef8d68d7c",
   "metadata": {},
   "outputs": [],
   "source": []
  },
  {
   "cell_type": "code",
   "execution_count": null,
   "id": "95cb0e8d-455e-4fb9-928c-94e5310ae526",
   "metadata": {},
   "outputs": [],
   "source": []
  },
  {
   "cell_type": "code",
   "execution_count": null,
   "id": "8ca5317c-1275-4679-ad95-070d5a699131",
   "metadata": {},
   "outputs": [],
   "source": []
  },
  {
   "cell_type": "code",
   "execution_count": null,
   "id": "906e1ab6-ae53-4797-9400-6aea2dbfad3a",
   "metadata": {},
   "outputs": [],
   "source": []
  },
  {
   "cell_type": "code",
   "execution_count": null,
   "id": "695162e9-509a-43c7-a7ec-c117cbdd3f99",
   "metadata": {},
   "outputs": [],
   "source": []
  },
  {
   "cell_type": "code",
   "execution_count": null,
   "id": "2f0c95af-e22c-4e5a-a3ed-e1c528fc405a",
   "metadata": {},
   "outputs": [],
   "source": []
  },
  {
   "cell_type": "code",
   "execution_count": null,
   "id": "228abde4-a249-4e16-aa2f-98bda17c13d5",
   "metadata": {},
   "outputs": [],
   "source": []
  },
  {
   "cell_type": "code",
   "execution_count": null,
   "id": "7f54b666-d3cf-4e99-9f90-b400e16708f4",
   "metadata": {},
   "outputs": [],
   "source": []
  },
  {
   "cell_type": "code",
   "execution_count": null,
   "id": "bbc1394f-f1a1-486e-9a2e-a8bec2e7621f",
   "metadata": {},
   "outputs": [],
   "source": []
  },
  {
   "cell_type": "code",
   "execution_count": null,
   "id": "3713f8ee-6d60-44d7-93e7-d9318490e265",
   "metadata": {},
   "outputs": [],
   "source": []
  },
  {
   "cell_type": "code",
   "execution_count": null,
   "id": "cb452917-06ef-4ed7-826f-f642a591d854",
   "metadata": {},
   "outputs": [],
   "source": []
  },
  {
   "cell_type": "code",
   "execution_count": null,
   "id": "23f19ce5-ad7e-4743-bdd2-02b9102563b1",
   "metadata": {},
   "outputs": [],
   "source": []
  },
  {
   "cell_type": "code",
   "execution_count": null,
   "id": "9e3c93ea-1e78-493f-a834-b64869b6486e",
   "metadata": {},
   "outputs": [],
   "source": []
  },
  {
   "cell_type": "code",
   "execution_count": null,
   "id": "0ef74f77-662c-43f0-9541-ce3dfe43b7b8",
   "metadata": {},
   "outputs": [],
   "source": []
  },
  {
   "cell_type": "code",
   "execution_count": null,
   "id": "bc8385e6-cf5f-4233-92a5-b7bf6fdf1a98",
   "metadata": {},
   "outputs": [],
   "source": []
  },
  {
   "cell_type": "code",
   "execution_count": null,
   "id": "8fab1257-dfe7-4e34-984f-8b2d50ca2e58",
   "metadata": {},
   "outputs": [],
   "source": []
  },
  {
   "cell_type": "code",
   "execution_count": null,
   "id": "ddc4ba82-6e64-40cf-bada-56612c0f9b1a",
   "metadata": {},
   "outputs": [],
   "source": []
  },
  {
   "cell_type": "code",
   "execution_count": null,
   "id": "1e83d1bc-b150-43df-92c0-d451b8d4911f",
   "metadata": {},
   "outputs": [],
   "source": []
  }
 ],
 "metadata": {
  "kernelspec": {
   "display_name": "Python 3 (ipykernel)",
   "language": "python",
   "name": "python3"
  },
  "language_info": {
   "codemirror_mode": {
    "name": "ipython",
    "version": 3
   },
   "file_extension": ".py",
   "mimetype": "text/x-python",
   "name": "python",
   "nbconvert_exporter": "python",
   "pygments_lexer": "ipython3",
   "version": "3.11.9"
  }
 },
 "nbformat": 4,
 "nbformat_minor": 5
}
